{
 "cells": [
  {
   "cell_type": "code",
   "execution_count": 5,
   "id": "9ea116fb-9221-4555-a90b-67489c5ae78c",
   "metadata": {},
   "outputs": [
    {
     "name": "stdout",
     "output_type": "stream",
     "text": [
      "arn:aws:iam::108782086480:role/service-role/AmazonSageMaker-ExecutionRole-20241028T231313\n",
      "<sagemaker.session.Session object at 0x7fb29b4bdb50>\n"
     ]
    }
   ],
   "source": [
    "import os\n",
    "import tarfile\n",
    "import urllib\n",
    "import shutil\n",
    "import json\n",
    "import random\n",
    "import numpy as np\n",
    "import boto3\n",
    "import sagemaker\n",
    "\n",
    "from tqdm import tqdm\n",
    "from sagemaker.amazon.amazon_estimator import get_image_uri\n",
    "from matplotlib import pyplot as plt\n",
    "\n",
    "role = sagemaker.get_execution_role()\n",
    "print(role)\n",
    "\n",
    "sess = sagemaker.Session()\n",
    "print(sess)"
   ]
  },
  {
   "cell_type": "markdown",
   "id": "00f9a834-f9ee-4b9a-b7f1-17ce59698cd8",
   "metadata": {},
   "source": [
    "# Sagemaker data preparation"
   ]
  },
  {
   "cell_type": "code",
   "execution_count": null,
   "id": "e41be09d-57dd-4401-b319-c26cdd24bb6c",
   "metadata": {},
   "outputs": [],
   "source": [
    "sess = sagemaker.Session()\n",
    "\n",
    "s3_train_path = sess.upload_data(path='train', bucket=bucket_name, key_prefix='train')\n",
    "s3_train_lst_path = sess.upload_data(path='train_lst', bucket=bucket_name, key_prefix='train_lst')\n",
    "s3_validation_path = sess.upload_data(path='validation', bucket=bucket_name, key_prefix='validation')\n",
    "s3_validation_lst_path = sess.upload_data(path='validation_lst', bucket=bucket_name, key_prefix='validation_lst')\n",
    "print(s3_train_path, s3_train_lst_path, s3_validation_path, s3_validation_lst_path)\n"
   ]
  },
  {
   "cell_type": "markdown",
   "id": "2d7be2fb-42fd-49b9-a38b-ba1d1c9a957e",
   "metadata": {},
   "source": [
    "# Sagemaker Estimator"
   ]
  },
  {
   "cell_type": "code",
   "execution_count": 6,
   "id": "38083e42-e67a-4176-b142-25dd85cafb6e",
   "metadata": {},
   "outputs": [
    {
     "name": "stderr",
     "output_type": "stream",
     "text": [
      "train_max_run has been renamed in sagemaker>=2.\n",
      "See: https://sagemaker.readthedocs.io/en/stable/v2.html for details.\n"
     ]
    }
   ],
   "source": [
    "model = sagemaker.estimator.Estimator(\n",
    "    image_uri=\"108782086480.dkr.ecr.us-east-1.amazonaws.com/simple-docker-service-0e4ed6c4db93:latest\",\n",
    "    role=role,\n",
    "    instance_count=1,\n",
    "    instance_type='ml.t3.medium',\n",
    "    volume_size=5,\n",
    "    train_max_run=10,\n",
    "    input_mode='File',\n",
    "    output_path='s3://mnist-20241029/output',\n",
    "    sagemaker_session=sess\n",
    ")"
   ]
  },
  {
   "cell_type": "code",
   "execution_count": null,
   "id": "c994a115-8f6b-4dc9-8bfc-c23202a096de",
   "metadata": {},
   "outputs": [],
   "source": [
    "model.set_hyperparameters(\n",
    "    num_layers=18,\n",
    "    use_pretrained_model=1,\n",
    "    image_shape='3,224,224',\n",
    "    num_classes=37,\n",
    "    mini_batch_size=32,\n",
    "    resize=224,\n",
    "    epochs=10,\n",
    "    learning_rate=0.001,\n",
    "    num_training_samples=train_count,\n",
    "    use_weighted_loss=1,\n",
    "    augmentation_type='crop_color_transform',\n",
    ")"
   ]
  },
  {
   "cell_type": "code",
   "execution_count": null,
   "id": "20c6a36d-83c8-4f06-98df-4e5a59d27afe",
   "metadata": {},
   "outputs": [],
   "source": [
    "data_channels = { \n",
    "    'train': 'train_data', \n",
    "    'validation': 'validation_data' \n",
    "}"
   ]
  },
  {
   "cell_type": "code",
   "execution_count": null,
   "id": "163e78c3-67ab-4551-ad8e-beb8e6c4b8cd",
   "metadata": {},
   "outputs": [],
   "source": [
    "model.fit(inputs=data_channels, logs=True)"
   ]
  },
  {
   "cell_type": "markdown",
   "id": "045096f3-2e1f-4a64-8bc7-67113a8ff40e",
   "metadata": {},
   "source": [
    "# model deploy"
   ]
  },
  {
   "cell_type": "code",
   "execution_count": null,
   "id": "29bbd400-7d67-4e84-b70c-81c9e1165276",
   "metadata": {},
   "outputs": [],
   "source": [
    "predictor = model.deploy(\n",
    "    instance_type='ml.m5.large',\n",
    "    initial_instance_count=1,\n",
    "    image_uri='your-custom-image-uri'\n",
    ")"
   ]
  },
  {
   "cell_type": "code",
   "execution_count": null,
   "id": "2a623c8e-f19a-4f40-b83d-d55b92611025",
   "metadata": {},
   "outputs": [],
   "source": []
  },
  {
   "cell_type": "code",
   "execution_count": null,
   "id": "886d9fc4-4d28-4b50-a291-249b48604ad1",
   "metadata": {},
   "outputs": [],
   "source": [
    "# sagemaker.Session().delete_endpoint(predictor.endpoint)"
   ]
  }
 ],
 "metadata": {
  "kernelspec": {
   "display_name": "Python 3 (ipykernel)",
   "language": "python",
   "name": "python3"
  },
  "language_info": {
   "codemirror_mode": {
    "name": "ipython",
    "version": 3
   },
   "file_extension": ".py",
   "mimetype": "text/x-python",
   "name": "python",
   "nbconvert_exporter": "python",
   "pygments_lexer": "ipython3",
   "version": "3.11.9"
  }
 },
 "nbformat": 4,
 "nbformat_minor": 5
}
