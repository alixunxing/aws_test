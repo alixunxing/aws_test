{
 "cells": [
  {
   "cell_type": "code",
   "execution_count": 7,
   "id": "9ea116fb-9221-4555-a90b-67489c5ae78c",
   "metadata": {},
   "outputs": [
    {
     "name": "stdout",
     "output_type": "stream",
     "text": [
      "arn:aws:iam::108782086480:role/service-role/AmazonSageMaker-ExecutionRole-20241028T231313\n",
      "<sagemaker.session.Session object at 0x7fb29b2e9ed0>\n"
     ]
    }
   ],
   "source": [
    "import os\n",
    "import tarfile\n",
    "import urllib\n",
    "import shutil\n",
    "import json\n",
    "import random\n",
    "import numpy as np\n",
    "import boto3\n",
    "import sagemaker\n",
    "\n",
    "from tqdm import tqdm\n",
    "from sagemaker.amazon.amazon_estimator import get_image_uri\n",
    "from matplotlib import pyplot as plt\n",
    "\n",
    "role = sagemaker.get_execution_role()\n",
    "print(role)\n",
    "\n",
    "sess = sagemaker.Session()\n",
    "print(sess)"
   ]
  },
  {
   "cell_type": "markdown",
   "id": "00f9a834-f9ee-4b9a-b7f1-17ce59698cd8",
   "metadata": {},
   "source": [
    "# Sagemaker data preparation"
   ]
  },
  {
   "cell_type": "code",
   "execution_count": null,
   "id": "e41be09d-57dd-4401-b319-c26cdd24bb6c",
   "metadata": {},
   "outputs": [],
   "source": [
    "sess = sagemaker.Session()\n",
    "\n",
    "s3_train_path = sess.upload_data(path='train', bucket=bucket_name, key_prefix='train')\n",
    "s3_train_lst_path = sess.upload_data(path='train_lst', bucket=bucket_name, key_prefix='train_lst')\n",
    "s3_validation_path = sess.upload_data(path='validation', bucket=bucket_name, key_prefix='validation')\n",
    "s3_validation_lst_path = sess.upload_data(path='validation_lst', bucket=bucket_name, key_prefix='validation_lst')\n",
    "print(s3_train_path, s3_train_lst_path, s3_validation_path, s3_validation_lst_path)\n"
   ]
  },
  {
   "cell_type": "markdown",
   "id": "2d7be2fb-42fd-49b9-a38b-ba1d1c9a957e",
   "metadata": {},
   "source": [
    "# Sagemaker Estimator"
   ]
  },
  {
   "cell_type": "code",
   "execution_count": 49,
   "id": "38083e42-e67a-4176-b142-25dd85cafb6e",
   "metadata": {},
   "outputs": [],
   "source": [
    "model = sagemaker.estimator.Estimator(\n",
    "    image_uri=\"108782086480.dkr.ecr.us-east-1.amazonaws.com/simple-docker-service-0e4ed6c4db93:latest\",\n",
    "    role=role,\n",
    "    instance_count=1,\n",
    "    instance_type='ml.m5.large',\n",
    "    volume_size=5,\n",
    "    input_mode='File',\n",
    "    output_path='s3://mnist-20241029/output',\n",
    "    sagemaker_session=sess\n",
    ")"
   ]
  },
  {
   "cell_type": "code",
   "execution_count": 50,
   "id": "c994a115-8f6b-4dc9-8bfc-c23202a096de",
   "metadata": {},
   "outputs": [],
   "source": [
    "model.set_hyperparameters(\n",
    "    num_layers=18,\n",
    "    use_pretrained_model=1,\n",
    "    image_shape='3,224,224',\n",
    "    num_classes=37,\n",
    "    mini_batch_size=32,\n",
    "    resize=224,\n",
    "    epochs=10,\n",
    "    learning_rate=0.001,\n",
    "    num_training_samples=10000,\n",
    "    use_weighted_loss=1,\n",
    "    augmentation_type='crop_color_transform',\n",
    ")"
   ]
  },
  {
   "cell_type": "code",
   "execution_count": null,
   "id": "4cff80ad-a035-4b19-b7f4-28d8bd5e1ed2",
   "metadata": {},
   "outputs": [],
   "source": []
  },
  {
   "cell_type": "code",
   "execution_count": 51,
   "id": "20c6a36d-83c8-4f06-98df-4e5a59d27afe",
   "metadata": {},
   "outputs": [],
   "source": [
    "data_channels = {\n",
    "    'train': 's3://mnist-20241029/t10k-images-idx3-ubyte',\n",
    "    'validation': 's3://mnist-20241029/t10k-images-idx3-ubyte'\n",
    "}"
   ]
  },
  {
   "cell_type": "code",
   "execution_count": 52,
   "id": "163e78c3-67ab-4551-ad8e-beb8e6c4b8cd",
   "metadata": {},
   "outputs": [
    {
     "name": "stderr",
     "output_type": "stream",
     "text": [
      "INFO:sagemaker:Creating training-job with name: simple-docker-service-0e4ed6c4db93-2024-10-29-13-41-51-270\n"
     ]
    },
    {
     "name": "stdout",
     "output_type": "stream",
     "text": [
      "2024-10-29 13:41:52 Starting - Starting the training job...\n",
      "2024-10-29 13:42:07 Starting - Preparing the instances for training...\n",
      "2024-10-29 13:42:32 Downloading - Downloading input data...\n",
      "2024-10-29 13:42:57 Downloading - Downloading the training image.........\n",
      "2024-10-29 13:44:49 Training - Training image download completed. Training in progress..\u001B[34mA module that was compiled using NumPy 1.x cannot be run in\u001B[0m\n",
      "\u001B[34mNumPy 2.0.2 as it may crash. To support both 1.x and 2.x\u001B[0m\n",
      "\u001B[34mversions of NumPy, modules must be compiled with NumPy 2.0.\u001B[0m\n",
      "\u001B[34mSome module may need to rebuild instead e.g. with 'pybind11>=2.12'.\u001B[0m\n",
      "\u001B[34mIf you are a user of the module, the easiest solution will be to\u001B[0m\n",
      "\u001B[34mdowngrade to 'numpy<2' or try to upgrade the affected module.\u001B[0m\n",
      "\u001B[34mWe expect that some modules will need time to support NumPy 2.\u001B[0m\n",
      "\u001B[34mTraceback (most recent call last):  File \"/app/mnist_cnn.py\", line 1, in <module>\n",
      "    import torch\n",
      "  File \"/usr/local/lib/python3.9/site-packages/torch/__init__.py\", line 1477, in <module>\n",
      "    from .functional import *  # noqa: F403\n",
      "  File \"/usr/local/lib/python3.9/site-packages/torch/functional.py\", line 9, in <module>\n",
      "    import torch.nn.functional as F\n",
      "  File \"/usr/local/lib/python3.9/site-packages/torch/nn/__init__.py\", line 1, in <module>\n",
      "    from .modules import *  # noqa: F403\n",
      "  File \"/usr/local/lib/python3.9/site-packages/torch/nn/modules/__init__.py\", line 35, in <module>\n",
      "    from .transformer import TransformerEncoder, TransformerDecoder, \\\n",
      "  File \"/usr/local/lib/python3.9/site-packages/torch/nn/modules/transformer.py\", line 20, in <module>\n",
      "    device: torch.device = torch.device(torch._C._get_default_device()),  # torch.device('cpu'),\u001B[0m\n",
      "\u001B[34m/usr/local/lib/python3.9/site-packages/torch/nn/modules/transformer.py:20: UserWarning: Failed to initialize NumPy: _ARRAY_API not found (Triggered internally at ../torch/csrc/utils/tensor_numpy.cpp:84.)\n",
      "  device: torch.device = torch.device(torch._C._get_default_device()),  # torch.device('cpu'),\u001B[0m\n",
      "\u001B[34m{'augmentation_type': 'crop_color_transform', 'epochs': '10', 'image_shape': '3,224,224', 'learning_rate': '0.001', 'mini_batch_size': '32', 'num_classes': '37', 'num_layers': '18', 'num_training_samples': '10000', 'resize': '224', 'use_pretrained_model': '1', 'use_weighted_loss': '1'}\u001B[0m\n",
      "\u001B[34mTrain data path: []\u001B[0m\n",
      "\u001B[34mValidation data path: []\u001B[0m\n",
      "\u001B[34mTraceback (most recent call last):\n",
      "  File \"/app/mnist_cnn.py\", line 101, in <module>\n",
      "    train(model, device, train_loader, optimizer, epoch)\n",
      "  File \"/app/mnist_cnn.py\", line 62, in train\n",
      "    for batch_idx, (data, target) in enumerate(train_loader):\n",
      "  File \"/usr/local/lib/python3.9/site-packages/torch/utils/data/dataloader.py\", line 631, in __next__\n",
      "    data = self._next_data()\n",
      "  File \"/usr/local/lib/python3.9/site-packages/torch/utils/data/dataloader.py\", line 675, in _next_data\n",
      "    data = self._dataset_fetcher.fetch(index)  # may raise StopIteration\n",
      "  File \"/usr/local/lib/python3.9/site-packages/torch/utils/data/_utils/fetch.py\", line 51, in fetch\n",
      "    data = [self.dataset[idx] for idx in possibly_batched_index]\n",
      "  File \"/usr/local/lib/python3.9/site-packages/torch/utils/data/_utils/fetch.py\", line 51, in <listcomp>\n",
      "    data = [self.dataset[idx] for idx in possibly_batched_index]\n",
      "  File \"/usr/local/lib/python3.9/site-packages/torchvision/datasets/mnist.py\", line 142, in __getitem__\n",
      "    img = Image.fromarray(img.numpy(), mode=\"L\")\u001B[0m\n",
      "\u001B[34mRuntimeError: Numpy is not available\u001B[0m\n",
      "\n",
      "2024-10-29 13:45:13 Uploading - Uploading generated training model\n",
      "2024-10-29 13:45:13 Failed - Training job failed\n"
     ]
    },
    {
     "ename": "UnexpectedStatusException",
     "evalue": "Error for Training job simple-docker-service-0e4ed6c4db93-2024-10-29-13-41-51-270: Failed. Reason: AlgorithmError: , exit code: 1",
     "output_type": "error",
     "traceback": [
      "\u001B[0;31m---------------------------------------------------------------------------\u001B[0m",
      "\u001B[0;31mUnexpectedStatusException\u001B[0m                 Traceback (most recent call last)",
      "Cell \u001B[0;32mIn[52], line 1\u001B[0m\n\u001B[0;32m----> 1\u001B[0m \u001B[43mmodel\u001B[49m\u001B[38;5;241;43m.\u001B[39;49m\u001B[43mfit\u001B[49m\u001B[43m(\u001B[49m\u001B[43minputs\u001B[49m\u001B[38;5;241;43m=\u001B[39;49m\u001B[43mdata_channels\u001B[49m\u001B[43m,\u001B[49m\u001B[43m \u001B[49m\u001B[43mlogs\u001B[49m\u001B[38;5;241;43m=\u001B[39;49m\u001B[38;5;28;43;01mTrue\u001B[39;49;00m\u001B[43m)\u001B[49m\n",
      "File \u001B[0;32m/opt/conda/lib/python3.11/site-packages/sagemaker/workflow/pipeline_context.py:346\u001B[0m, in \u001B[0;36mrunnable_by_pipeline.<locals>.wrapper\u001B[0;34m(*args, **kwargs)\u001B[0m\n\u001B[1;32m    342\u001B[0m         \u001B[38;5;28;01mreturn\u001B[39;00m context\n\u001B[1;32m    344\u001B[0m     \u001B[38;5;28;01mreturn\u001B[39;00m _StepArguments(retrieve_caller_name(self_instance), run_func, \u001B[38;5;241m*\u001B[39margs, \u001B[38;5;241m*\u001B[39m\u001B[38;5;241m*\u001B[39mkwargs)\n\u001B[0;32m--> 346\u001B[0m \u001B[38;5;28;01mreturn\u001B[39;00m \u001B[43mrun_func\u001B[49m\u001B[43m(\u001B[49m\u001B[38;5;241;43m*\u001B[39;49m\u001B[43margs\u001B[49m\u001B[43m,\u001B[49m\u001B[43m \u001B[49m\u001B[38;5;241;43m*\u001B[39;49m\u001B[38;5;241;43m*\u001B[39;49m\u001B[43mkwargs\u001B[49m\u001B[43m)\u001B[49m\n",
      "File \u001B[0;32m/opt/conda/lib/python3.11/site-packages/sagemaker/estimator.py:1350\u001B[0m, in \u001B[0;36mEstimatorBase.fit\u001B[0;34m(self, inputs, wait, logs, job_name, experiment_config)\u001B[0m\n\u001B[1;32m   1348\u001B[0m \u001B[38;5;28mself\u001B[39m\u001B[38;5;241m.\u001B[39mjobs\u001B[38;5;241m.\u001B[39mappend(\u001B[38;5;28mself\u001B[39m\u001B[38;5;241m.\u001B[39mlatest_training_job)\n\u001B[1;32m   1349\u001B[0m \u001B[38;5;28;01mif\u001B[39;00m wait:\n\u001B[0;32m-> 1350\u001B[0m     \u001B[38;5;28;43mself\u001B[39;49m\u001B[38;5;241;43m.\u001B[39;49m\u001B[43mlatest_training_job\u001B[49m\u001B[38;5;241;43m.\u001B[39;49m\u001B[43mwait\u001B[49m\u001B[43m(\u001B[49m\u001B[43mlogs\u001B[49m\u001B[38;5;241;43m=\u001B[39;49m\u001B[43mlogs\u001B[49m\u001B[43m)\u001B[49m\n",
      "File \u001B[0;32m/opt/conda/lib/python3.11/site-packages/sagemaker/estimator.py:2720\u001B[0m, in \u001B[0;36m_TrainingJob.wait\u001B[0;34m(self, logs)\u001B[0m\n\u001B[1;32m   2718\u001B[0m \u001B[38;5;66;03m# If logs are requested, call logs_for_jobs.\u001B[39;00m\n\u001B[1;32m   2719\u001B[0m \u001B[38;5;28;01mif\u001B[39;00m logs \u001B[38;5;241m!=\u001B[39m \u001B[38;5;124m\"\u001B[39m\u001B[38;5;124mNone\u001B[39m\u001B[38;5;124m\"\u001B[39m:\n\u001B[0;32m-> 2720\u001B[0m     \u001B[38;5;28;43mself\u001B[39;49m\u001B[38;5;241;43m.\u001B[39;49m\u001B[43msagemaker_session\u001B[49m\u001B[38;5;241;43m.\u001B[39;49m\u001B[43mlogs_for_job\u001B[49m\u001B[43m(\u001B[49m\u001B[38;5;28;43mself\u001B[39;49m\u001B[38;5;241;43m.\u001B[39;49m\u001B[43mjob_name\u001B[49m\u001B[43m,\u001B[49m\u001B[43m \u001B[49m\u001B[43mwait\u001B[49m\u001B[38;5;241;43m=\u001B[39;49m\u001B[38;5;28;43;01mTrue\u001B[39;49;00m\u001B[43m,\u001B[49m\u001B[43m \u001B[49m\u001B[43mlog_type\u001B[49m\u001B[38;5;241;43m=\u001B[39;49m\u001B[43mlogs\u001B[49m\u001B[43m)\u001B[49m\n\u001B[1;32m   2721\u001B[0m \u001B[38;5;28;01melse\u001B[39;00m:\n\u001B[1;32m   2722\u001B[0m     \u001B[38;5;28mself\u001B[39m\u001B[38;5;241m.\u001B[39msagemaker_session\u001B[38;5;241m.\u001B[39mwait_for_job(\u001B[38;5;28mself\u001B[39m\u001B[38;5;241m.\u001B[39mjob_name)\n",
      "File \u001B[0;32m/opt/conda/lib/python3.11/site-packages/sagemaker/session.py:5853\u001B[0m, in \u001B[0;36mSession.logs_for_job\u001B[0;34m(self, job_name, wait, poll, log_type, timeout)\u001B[0m\n\u001B[1;32m   5832\u001B[0m \u001B[38;5;28;01mdef\u001B[39;00m \u001B[38;5;21mlogs_for_job\u001B[39m(\u001B[38;5;28mself\u001B[39m, job_name, wait\u001B[38;5;241m=\u001B[39m\u001B[38;5;28;01mFalse\u001B[39;00m, poll\u001B[38;5;241m=\u001B[39m\u001B[38;5;241m10\u001B[39m, log_type\u001B[38;5;241m=\u001B[39m\u001B[38;5;124m\"\u001B[39m\u001B[38;5;124mAll\u001B[39m\u001B[38;5;124m\"\u001B[39m, timeout\u001B[38;5;241m=\u001B[39m\u001B[38;5;28;01mNone\u001B[39;00m):\n\u001B[1;32m   5833\u001B[0m \u001B[38;5;250m    \u001B[39m\u001B[38;5;124;03m\"\"\"Display logs for a given training job, optionally tailing them until job is complete.\u001B[39;00m\n\u001B[1;32m   5834\u001B[0m \n\u001B[1;32m   5835\u001B[0m \u001B[38;5;124;03m    If the output is a tty or a Jupyter cell, it will be color-coded\u001B[39;00m\n\u001B[0;32m   (...)\u001B[0m\n\u001B[1;32m   5851\u001B[0m \u001B[38;5;124;03m        exceptions.UnexpectedStatusException: If waiting and the training job fails.\u001B[39;00m\n\u001B[1;32m   5852\u001B[0m \u001B[38;5;124;03m    \"\"\"\u001B[39;00m\n\u001B[0;32m-> 5853\u001B[0m     \u001B[43m_logs_for_job\u001B[49m\u001B[43m(\u001B[49m\u001B[38;5;28;43mself\u001B[39;49m\u001B[43m,\u001B[49m\u001B[43m \u001B[49m\u001B[43mjob_name\u001B[49m\u001B[43m,\u001B[49m\u001B[43m \u001B[49m\u001B[43mwait\u001B[49m\u001B[43m,\u001B[49m\u001B[43m \u001B[49m\u001B[43mpoll\u001B[49m\u001B[43m,\u001B[49m\u001B[43m \u001B[49m\u001B[43mlog_type\u001B[49m\u001B[43m,\u001B[49m\u001B[43m \u001B[49m\u001B[43mtimeout\u001B[49m\u001B[43m)\u001B[49m\n",
      "File \u001B[0;32m/opt/conda/lib/python3.11/site-packages/sagemaker/session.py:8455\u001B[0m, in \u001B[0;36m_logs_for_job\u001B[0;34m(sagemaker_session, job_name, wait, poll, log_type, timeout)\u001B[0m\n\u001B[1;32m   8452\u001B[0m             last_profiler_rule_statuses \u001B[38;5;241m=\u001B[39m profiler_rule_statuses\n\u001B[1;32m   8454\u001B[0m \u001B[38;5;28;01mif\u001B[39;00m wait:\n\u001B[0;32m-> 8455\u001B[0m     \u001B[43m_check_job_status\u001B[49m\u001B[43m(\u001B[49m\u001B[43mjob_name\u001B[49m\u001B[43m,\u001B[49m\u001B[43m \u001B[49m\u001B[43mdescription\u001B[49m\u001B[43m,\u001B[49m\u001B[43m \u001B[49m\u001B[38;5;124;43m\"\u001B[39;49m\u001B[38;5;124;43mTrainingJobStatus\u001B[39;49m\u001B[38;5;124;43m\"\u001B[39;49m\u001B[43m)\u001B[49m\n\u001B[1;32m   8456\u001B[0m     \u001B[38;5;28;01mif\u001B[39;00m dot:\n\u001B[1;32m   8457\u001B[0m         \u001B[38;5;28mprint\u001B[39m()\n",
      "File \u001B[0;32m/opt/conda/lib/python3.11/site-packages/sagemaker/session.py:8508\u001B[0m, in \u001B[0;36m_check_job_status\u001B[0;34m(job, desc, status_key_name)\u001B[0m\n\u001B[1;32m   8502\u001B[0m \u001B[38;5;28;01mif\u001B[39;00m \u001B[38;5;124m\"\u001B[39m\u001B[38;5;124mCapacityError\u001B[39m\u001B[38;5;124m\"\u001B[39m \u001B[38;5;129;01min\u001B[39;00m \u001B[38;5;28mstr\u001B[39m(reason):\n\u001B[1;32m   8503\u001B[0m     \u001B[38;5;28;01mraise\u001B[39;00m exceptions\u001B[38;5;241m.\u001B[39mCapacityError(\n\u001B[1;32m   8504\u001B[0m         message\u001B[38;5;241m=\u001B[39mmessage,\n\u001B[1;32m   8505\u001B[0m         allowed_statuses\u001B[38;5;241m=\u001B[39m[\u001B[38;5;124m\"\u001B[39m\u001B[38;5;124mCompleted\u001B[39m\u001B[38;5;124m\"\u001B[39m, \u001B[38;5;124m\"\u001B[39m\u001B[38;5;124mStopped\u001B[39m\u001B[38;5;124m\"\u001B[39m],\n\u001B[1;32m   8506\u001B[0m         actual_status\u001B[38;5;241m=\u001B[39mstatus,\n\u001B[1;32m   8507\u001B[0m     )\n\u001B[0;32m-> 8508\u001B[0m \u001B[38;5;28;01mraise\u001B[39;00m exceptions\u001B[38;5;241m.\u001B[39mUnexpectedStatusException(\n\u001B[1;32m   8509\u001B[0m     message\u001B[38;5;241m=\u001B[39mmessage,\n\u001B[1;32m   8510\u001B[0m     allowed_statuses\u001B[38;5;241m=\u001B[39m[\u001B[38;5;124m\"\u001B[39m\u001B[38;5;124mCompleted\u001B[39m\u001B[38;5;124m\"\u001B[39m, \u001B[38;5;124m\"\u001B[39m\u001B[38;5;124mStopped\u001B[39m\u001B[38;5;124m\"\u001B[39m],\n\u001B[1;32m   8511\u001B[0m     actual_status\u001B[38;5;241m=\u001B[39mstatus,\n\u001B[1;32m   8512\u001B[0m )\n",
      "\u001B[0;31mUnexpectedStatusException\u001B[0m: Error for Training job simple-docker-service-0e4ed6c4db93-2024-10-29-13-41-51-270: Failed. Reason: AlgorithmError: , exit code: 1"
     ]
    }
   ],
   "source": [
    "model.fit(inputs=data_channels, logs=True)"
   ]
  },
  {
   "cell_type": "markdown",
   "id": "045096f3-2e1f-4a64-8bc7-67113a8ff40e",
   "metadata": {},
   "source": [
    "# model deploy"
   ]
  },
  {
   "cell_type": "code",
   "execution_count": null,
   "id": "29bbd400-7d67-4e84-b70c-81c9e1165276",
   "metadata": {},
   "outputs": [],
   "source": [
    "predictor = model.deploy(\n",
    "    instance_type='ml.m5.large',\n",
    "    initial_instance_count=1,\n",
    "    image_uri='your-custom-image-uri'\n",
    ")"
   ]
  },
  {
   "cell_type": "code",
   "execution_count": null,
   "id": "2a623c8e-f19a-4f40-b83d-d55b92611025",
   "metadata": {},
   "outputs": [],
   "source": []
  },
  {
   "cell_type": "code",
   "execution_count": null,
   "id": "886d9fc4-4d28-4b50-a291-249b48604ad1",
   "metadata": {},
   "outputs": [],
   "source": [
    "# sagemaker.Session().delete_endpoint(predictor.endpoint)"
   ]
  }
 ],
 "metadata": {
  "kernelspec": {
   "display_name": "Python 3 (ipykernel)",
   "language": "python",
   "name": "python3"
  },
  "language_info": {
   "codemirror_mode": {
    "name": "ipython",
    "version": 3
   },
   "file_extension": ".py",
   "mimetype": "text/x-python",
   "name": "python",
   "nbconvert_exporter": "python",
   "pygments_lexer": "ipython3",
   "version": "3.11.9"
  }
 },
 "nbformat": 4,
 "nbformat_minor": 5
}
